{
  "cells": [
    {
      "cell_type": "markdown",
      "metadata": {
        "colab_type": "text",
        "id": "view-in-github"
      },
      "source": [
        "<a href=\"https://colab.research.google.com/github/slouie88/pandas-practice/blob/master/Python_pandas_Practice_Problems_UC_Berkeley_MIDS_notebook.ipynb\" target=\"_parent\"><img src=\"https://colab.research.google.com/assets/colab-badge.svg\" alt=\"Open In Colab\"/></a>"
      ]
    },
    {
      "cell_type": "markdown",
      "metadata": {
        "id": "Q_rqa1jwKd5v"
      },
      "source": [
        "# Python pandas Practice Problems\n",
        "\n",
        "Welcome to datascience@berkeley's collection of Python pandas practice problems.\n",
        "\n",
        "To use this notebook, go to `File` --> `Save a copy in Drive` in the menu bar above to create a copy of this notebook on your computer. A new tab will open with the copy and you will be the owner. Your version will not be visible to anyone else.\n",
        "\n",
        "A few notes to get you started:\n",
        "\n",
        "* The space provided for code is not a line limit or hint. Add and use as many lines of code or additional cells as necessary.\n",
        "* Lines preceded with '#' are comments and provide additional explanation but will not affect written code or execution.\n",
        "* Solutions can be found in the complementary [Python pandas Practice Problems for Beginners - Solutions notebook](https://colab.research.google.com/drive/1f8PTrhgJR093fBth5Ka23KCWTIGbgPds?usp=sharing).\n",
        "* Additional resources for the concepts used in each problem can be found at [the blog post here](https://ischoolonline.berkeley.edu/blog/python-pandas-practice-problems/).\n"
      ]
    },
    {
      "cell_type": "code",
      "execution_count": 1,
      "metadata": {
        "colab": {
          "base_uri": "https://localhost:8080/"
        },
        "id": "_DgRNdroKTwF",
        "outputId": "9353a4df-bdc7-4d8b-961a-204b54781f3f"
      },
      "outputs": [],
      "source": [
        "# Import statements go here\n",
        "\n",
        "import pandas as pd\n",
        "import statsmodels.api as sm"
      ]
    },
    {
      "cell_type": "markdown",
      "metadata": {
        "id": "525Moc9hEfFr"
      },
      "source": [
        "## Importing Data and Making a DataFrame\n",
        "The statsmodels package (installed in the code cell above) includes built-in datasets. Execute the code below to download data from the [American National Election Studies of 1996](https://www.statsmodels.org/dev/datasets/generated/anes96.html) and print a detailed description of the schema.\n",
        "\n",
        "The next cell extracts the `Dataset` object from the submodule and saves the `DataFrame` to the variable `df`. In the questions that follow, use `df` when referencing the dataset."
      ]
    },
    {
      "cell_type": "code",
      "execution_count": 2,
      "metadata": {
        "colab": {
          "base_uri": "https://localhost:8080/"
        },
        "id": "d-bGIc2VNqvW",
        "outputId": "7ce9a578-adfa-4500-a9f6-4d222dcc4918"
      },
      "outputs": [
        {
          "name": "stdout",
          "output_type": "stream",
          "text": [
            "::\n",
            "\n",
            "    Number of observations - 944\n",
            "    Number of variables - 10\n",
            "\n",
            "    Variables name definitions::\n",
            "\n",
            "            popul - Census place population in 1000s\n",
            "            TVnews - Number of times per week that respondent watches TV news.\n",
            "            PID - Party identification of respondent.\n",
            "                0 - Strong Democrat\n",
            "                1 - Weak Democrat\n",
            "                2 - Independent-Democrat\n",
            "                3 - Independent-Indpendent\n",
            "                4 - Independent-Republican\n",
            "                5 - Weak Republican\n",
            "                6 - Strong Republican\n",
            "            age : Age of respondent.\n",
            "            educ - Education level of respondent\n",
            "                1 - 1-8 grades\n",
            "                2 - Some high school\n",
            "                3 - High school graduate\n",
            "                4 - Some college\n",
            "                5 - College degree\n",
            "                6 - Master's degree\n",
            "                7 - PhD\n",
            "            income - Income of household\n",
            "                1  - None or less than $2,999\n",
            "                2  - $3,000-$4,999\n",
            "                3  - $5,000-$6,999\n",
            "                4  - $7,000-$8,999\n",
            "                5  - $9,000-$9,999\n",
            "                6  - $10,000-$10,999\n",
            "                7  - $11,000-$11,999\n",
            "                8  - $12,000-$12,999\n",
            "                9  - $13,000-$13,999\n",
            "                10 - $14,000-$14.999\n",
            "                11 - $15,000-$16,999\n",
            "                12 - $17,000-$19,999\n",
            "                13 - $20,000-$21,999\n",
            "                14 - $22,000-$24,999\n",
            "                15 - $25,000-$29,999\n",
            "                16 - $30,000-$34,999\n",
            "                17 - $35,000-$39,999\n",
            "                18 - $40,000-$44,999\n",
            "                19 - $45,000-$49,999\n",
            "                20 - $50,000-$59,999\n",
            "                21 - $60,000-$74,999\n",
            "                22 - $75,000-89,999\n",
            "                23 - $90,000-$104,999\n",
            "                24 - $105,000 and over\n",
            "            vote - Expected vote\n",
            "                0 - Clinton\n",
            "                1 - Dole\n",
            "            The following 3 variables all take the values:\n",
            "                1 - Extremely liberal\n",
            "                2 - Liberal\n",
            "                3 - Slightly liberal\n",
            "                4 - Moderate\n",
            "                5 - Slightly conservative\n",
            "                6 - Conservative\n",
            "                7 - Extremely Conservative\n",
            "            selfLR - Respondent's self-reported political leanings from \"Left\"\n",
            "                to \"Right\".\n",
            "            ClinLR - Respondents impression of Bill Clinton's political\n",
            "                leanings from \"Left\" to \"Right\".\n",
            "            DoleLR  - Respondents impression of Bob Dole's political leanings\n",
            "                from \"Left\" to \"Right\".\n",
            "            logpopul - log(popul + .1)\n",
            "\n"
          ]
        }
      ],
      "source": [
        "anes96 = sm.datasets.anes96\n",
        "print(anes96.NOTE)"
      ]
    },
    {
      "cell_type": "code",
      "execution_count": 3,
      "metadata": {
        "id": "0aVym7SVK-IU"
      },
      "outputs": [],
      "source": [
        "dataset_anes96 = anes96.load_pandas()\n",
        "df = dataset_anes96.data"
      ]
    },
    {
      "cell_type": "markdown",
      "metadata": {
        "id": "kBHruDwCK1mH"
      },
      "source": [
        "## 1. DataFrame Basic Properties Exercise\n",
        "\n",
        "Our DataFrame (`df`) contains data on registered voters in the United States, including demographic information and political preference. Using `pandas`, print the first 5 rows of the DataFrame to get a sense of what the data looks like. Next, answer the following questions:\n",
        "\n",
        "\n",
        "*   How many observations are in the DataFrame?\n",
        "    - 944 observations\n",
        "*   How many variables are measured (how many columns)?\n",
        "    - 11 variables\n",
        "*   What is the age of the youngest person in the data? The oldest?\n",
        "    - Youngest age: 19yrs old\n",
        "    - Oldest age: 91 yrs old\n",
        "*   How many days a week does the average respondent watch TV news (round to the nearest tenth)?\n",
        "    - 3.7 times\n",
        "*   Check for missing values. Are there any?\n",
        "    - None\n",
        "\n",
        "\n",
        "\n",
        "\n"
      ]
    },
    {
      "cell_type": "code",
      "execution_count": 5,
      "metadata": {
        "id": "kh7hT9QyEsxl"
      },
      "outputs": [
        {
          "data": {
            "text/html": [
              "<div>\n",
              "<style scoped>\n",
              "    .dataframe tbody tr th:only-of-type {\n",
              "        vertical-align: middle;\n",
              "    }\n",
              "\n",
              "    .dataframe tbody tr th {\n",
              "        vertical-align: top;\n",
              "    }\n",
              "\n",
              "    .dataframe thead th {\n",
              "        text-align: right;\n",
              "    }\n",
              "</style>\n",
              "<table border=\"1\" class=\"dataframe\">\n",
              "  <thead>\n",
              "    <tr style=\"text-align: right;\">\n",
              "      <th></th>\n",
              "      <th>popul</th>\n",
              "      <th>TVnews</th>\n",
              "      <th>selfLR</th>\n",
              "      <th>ClinLR</th>\n",
              "      <th>DoleLR</th>\n",
              "      <th>PID</th>\n",
              "      <th>age</th>\n",
              "      <th>educ</th>\n",
              "      <th>income</th>\n",
              "      <th>vote</th>\n",
              "      <th>logpopul</th>\n",
              "    </tr>\n",
              "  </thead>\n",
              "  <tbody>\n",
              "    <tr>\n",
              "      <th>0</th>\n",
              "      <td>0.0</td>\n",
              "      <td>7.0</td>\n",
              "      <td>7.0</td>\n",
              "      <td>1.0</td>\n",
              "      <td>6.0</td>\n",
              "      <td>6.0</td>\n",
              "      <td>36.0</td>\n",
              "      <td>3.0</td>\n",
              "      <td>1.0</td>\n",
              "      <td>1.0</td>\n",
              "      <td>-2.302585</td>\n",
              "    </tr>\n",
              "    <tr>\n",
              "      <th>1</th>\n",
              "      <td>190.0</td>\n",
              "      <td>1.0</td>\n",
              "      <td>3.0</td>\n",
              "      <td>3.0</td>\n",
              "      <td>5.0</td>\n",
              "      <td>1.0</td>\n",
              "      <td>20.0</td>\n",
              "      <td>4.0</td>\n",
              "      <td>1.0</td>\n",
              "      <td>0.0</td>\n",
              "      <td>5.247550</td>\n",
              "    </tr>\n",
              "    <tr>\n",
              "      <th>2</th>\n",
              "      <td>31.0</td>\n",
              "      <td>7.0</td>\n",
              "      <td>2.0</td>\n",
              "      <td>2.0</td>\n",
              "      <td>6.0</td>\n",
              "      <td>1.0</td>\n",
              "      <td>24.0</td>\n",
              "      <td>6.0</td>\n",
              "      <td>1.0</td>\n",
              "      <td>0.0</td>\n",
              "      <td>3.437208</td>\n",
              "    </tr>\n",
              "    <tr>\n",
              "      <th>3</th>\n",
              "      <td>83.0</td>\n",
              "      <td>4.0</td>\n",
              "      <td>3.0</td>\n",
              "      <td>4.0</td>\n",
              "      <td>5.0</td>\n",
              "      <td>1.0</td>\n",
              "      <td>28.0</td>\n",
              "      <td>6.0</td>\n",
              "      <td>1.0</td>\n",
              "      <td>0.0</td>\n",
              "      <td>4.420045</td>\n",
              "    </tr>\n",
              "    <tr>\n",
              "      <th>4</th>\n",
              "      <td>640.0</td>\n",
              "      <td>7.0</td>\n",
              "      <td>5.0</td>\n",
              "      <td>6.0</td>\n",
              "      <td>4.0</td>\n",
              "      <td>0.0</td>\n",
              "      <td>68.0</td>\n",
              "      <td>6.0</td>\n",
              "      <td>1.0</td>\n",
              "      <td>0.0</td>\n",
              "      <td>6.461624</td>\n",
              "    </tr>\n",
              "  </tbody>\n",
              "</table>\n",
              "</div>"
            ],
            "text/plain": [
              "   popul  TVnews  selfLR  ClinLR  DoleLR  PID   age  educ  income  vote  \\\n",
              "0    0.0     7.0     7.0     1.0     6.0  6.0  36.0   3.0     1.0   1.0   \n",
              "1  190.0     1.0     3.0     3.0     5.0  1.0  20.0   4.0     1.0   0.0   \n",
              "2   31.0     7.0     2.0     2.0     6.0  1.0  24.0   6.0     1.0   0.0   \n",
              "3   83.0     4.0     3.0     4.0     5.0  1.0  28.0   6.0     1.0   0.0   \n",
              "4  640.0     7.0     5.0     6.0     4.0  0.0  68.0   6.0     1.0   0.0   \n",
              "\n",
              "   logpopul  \n",
              "0 -2.302585  \n",
              "1  5.247550  \n",
              "2  3.437208  \n",
              "3  4.420045  \n",
              "4  6.461624  "
            ]
          },
          "execution_count": 5,
          "metadata": {},
          "output_type": "execute_result"
        }
      ],
      "source": [
        "# Your code here\n",
        "df.head()"
      ]
    },
    {
      "cell_type": "code",
      "execution_count": 6,
      "metadata": {},
      "outputs": [
        {
          "name": "stdout",
          "output_type": "stream",
          "text": [
            "<class 'pandas.core.frame.DataFrame'>\n",
            "RangeIndex: 944 entries, 0 to 943\n",
            "Data columns (total 11 columns):\n",
            " #   Column    Non-Null Count  Dtype  \n",
            "---  ------    --------------  -----  \n",
            " 0   popul     944 non-null    float64\n",
            " 1   TVnews    944 non-null    float64\n",
            " 2   selfLR    944 non-null    float64\n",
            " 3   ClinLR    944 non-null    float64\n",
            " 4   DoleLR    944 non-null    float64\n",
            " 5   PID       944 non-null    float64\n",
            " 6   age       944 non-null    float64\n",
            " 7   educ      944 non-null    float64\n",
            " 8   income    944 non-null    float64\n",
            " 9   vote      944 non-null    float64\n",
            " 10  logpopul  944 non-null    float64\n",
            "dtypes: float64(11)\n",
            "memory usage: 81.2 KB\n"
          ]
        }
      ],
      "source": [
        "df.info()"
      ]
    },
    {
      "cell_type": "code",
      "execution_count": 9,
      "metadata": {},
      "outputs": [
        {
          "name": "stdout",
          "output_type": "stream",
          "text": [
            "Age of the youngest person observed in the dataset: 19.0\n",
            "Age of the oldest person observed in the dataset: 91.0\n"
          ]
        }
      ],
      "source": [
        "youngest = df[\"age\"].min()\n",
        "oldest = df[\"age\"].max()\n",
        "print(f\"Age of the youngest person observed in the dataset: {youngest}\")\n",
        "print(f\"Age of the oldest person observed in the dataset: {oldest}\")"
      ]
    },
    {
      "cell_type": "code",
      "execution_count": 10,
      "metadata": {},
      "outputs": [
        {
          "name": "stdout",
          "output_type": "stream",
          "text": [
            "The average person watches TV approximately 3.7 times per week\n"
          ]
        }
      ],
      "source": [
        "average_tv_per_week = df[\"TVnews\"].mean()\n",
        "print(f\"The average person watches TV approximately {round(average_tv_per_week, 1)} times per week\")"
      ]
    },
    {
      "cell_type": "markdown",
      "metadata": {
        "id": "RMerTMKXLA9f"
      },
      "source": [
        "## 2. Data Processing Exercise\n",
        "\n",
        "We want to adjust the dataset for our use. Do the following:\n",
        "\n",
        "\n",
        "*   Rename the `educ` column `education`.\n",
        "*   Create a new column called `party` based on each respondent's answer to `PID`. `party` should equal `Democrat` if the respondent selected either Strong Democrat or Weak Democrat. `party` will equal `Republican` if the respondent selected Strong or Weak Republican for `PID` and `Independent` if they selected anything else.\n",
        "*   Create a new column called `age_group` that buckets respondents into the following categories based on their `age`: 18-24, 25-34, 35-44, 45-54, 55-64, and 65 and over.\n",
        "\n"
      ]
    },
    {
      "cell_type": "code",
      "execution_count": 14,
      "metadata": {
        "id": "QaxRXEVULDGn"
      },
      "outputs": [
        {
          "data": {
            "text/html": [
              "<div>\n",
              "<style scoped>\n",
              "    .dataframe tbody tr th:only-of-type {\n",
              "        vertical-align: middle;\n",
              "    }\n",
              "\n",
              "    .dataframe tbody tr th {\n",
              "        vertical-align: top;\n",
              "    }\n",
              "\n",
              "    .dataframe thead th {\n",
              "        text-align: right;\n",
              "    }\n",
              "</style>\n",
              "<table border=\"1\" class=\"dataframe\">\n",
              "  <thead>\n",
              "    <tr style=\"text-align: right;\">\n",
              "      <th></th>\n",
              "      <th>popul</th>\n",
              "      <th>TVnews</th>\n",
              "      <th>selfLR</th>\n",
              "      <th>ClinLR</th>\n",
              "      <th>DoleLR</th>\n",
              "      <th>PID</th>\n",
              "      <th>age</th>\n",
              "      <th>education</th>\n",
              "      <th>income</th>\n",
              "      <th>vote</th>\n",
              "      <th>logpopul</th>\n",
              "    </tr>\n",
              "  </thead>\n",
              "  <tbody>\n",
              "    <tr>\n",
              "      <th>0</th>\n",
              "      <td>0.0</td>\n",
              "      <td>7.0</td>\n",
              "      <td>7.0</td>\n",
              "      <td>1.0</td>\n",
              "      <td>6.0</td>\n",
              "      <td>6.0</td>\n",
              "      <td>36.0</td>\n",
              "      <td>3.0</td>\n",
              "      <td>1.0</td>\n",
              "      <td>1.0</td>\n",
              "      <td>-2.302585</td>\n",
              "    </tr>\n",
              "    <tr>\n",
              "      <th>1</th>\n",
              "      <td>190.0</td>\n",
              "      <td>1.0</td>\n",
              "      <td>3.0</td>\n",
              "      <td>3.0</td>\n",
              "      <td>5.0</td>\n",
              "      <td>1.0</td>\n",
              "      <td>20.0</td>\n",
              "      <td>4.0</td>\n",
              "      <td>1.0</td>\n",
              "      <td>0.0</td>\n",
              "      <td>5.247550</td>\n",
              "    </tr>\n",
              "    <tr>\n",
              "      <th>2</th>\n",
              "      <td>31.0</td>\n",
              "      <td>7.0</td>\n",
              "      <td>2.0</td>\n",
              "      <td>2.0</td>\n",
              "      <td>6.0</td>\n",
              "      <td>1.0</td>\n",
              "      <td>24.0</td>\n",
              "      <td>6.0</td>\n",
              "      <td>1.0</td>\n",
              "      <td>0.0</td>\n",
              "      <td>3.437208</td>\n",
              "    </tr>\n",
              "    <tr>\n",
              "      <th>3</th>\n",
              "      <td>83.0</td>\n",
              "      <td>4.0</td>\n",
              "      <td>3.0</td>\n",
              "      <td>4.0</td>\n",
              "      <td>5.0</td>\n",
              "      <td>1.0</td>\n",
              "      <td>28.0</td>\n",
              "      <td>6.0</td>\n",
              "      <td>1.0</td>\n",
              "      <td>0.0</td>\n",
              "      <td>4.420045</td>\n",
              "    </tr>\n",
              "    <tr>\n",
              "      <th>4</th>\n",
              "      <td>640.0</td>\n",
              "      <td>7.0</td>\n",
              "      <td>5.0</td>\n",
              "      <td>6.0</td>\n",
              "      <td>4.0</td>\n",
              "      <td>0.0</td>\n",
              "      <td>68.0</td>\n",
              "      <td>6.0</td>\n",
              "      <td>1.0</td>\n",
              "      <td>0.0</td>\n",
              "      <td>6.461624</td>\n",
              "    </tr>\n",
              "  </tbody>\n",
              "</table>\n",
              "</div>"
            ],
            "text/plain": [
              "   popul  TVnews  selfLR  ClinLR  DoleLR  PID   age  education  income  vote  \\\n",
              "0    0.0     7.0     7.0     1.0     6.0  6.0  36.0        3.0     1.0   1.0   \n",
              "1  190.0     1.0     3.0     3.0     5.0  1.0  20.0        4.0     1.0   0.0   \n",
              "2   31.0     7.0     2.0     2.0     6.0  1.0  24.0        6.0     1.0   0.0   \n",
              "3   83.0     4.0     3.0     4.0     5.0  1.0  28.0        6.0     1.0   0.0   \n",
              "4  640.0     7.0     5.0     6.0     4.0  0.0  68.0        6.0     1.0   0.0   \n",
              "\n",
              "   logpopul  \n",
              "0 -2.302585  \n",
              "1  5.247550  \n",
              "2  3.437208  \n",
              "3  4.420045  \n",
              "4  6.461624  "
            ]
          },
          "execution_count": 14,
          "metadata": {},
          "output_type": "execute_result"
        }
      ],
      "source": [
        "# Your code here\n",
        "df.rename(columns={\"educ\": \"education\"}, inplace=True)\n",
        "df.head()"
      ]
    },
    {
      "cell_type": "code",
      "execution_count": 15,
      "metadata": {},
      "outputs": [
        {
          "data": {
            "text/html": [
              "<div>\n",
              "<style scoped>\n",
              "    .dataframe tbody tr th:only-of-type {\n",
              "        vertical-align: middle;\n",
              "    }\n",
              "\n",
              "    .dataframe tbody tr th {\n",
              "        vertical-align: top;\n",
              "    }\n",
              "\n",
              "    .dataframe thead th {\n",
              "        text-align: right;\n",
              "    }\n",
              "</style>\n",
              "<table border=\"1\" class=\"dataframe\">\n",
              "  <thead>\n",
              "    <tr style=\"text-align: right;\">\n",
              "      <th></th>\n",
              "      <th>popul</th>\n",
              "      <th>TVnews</th>\n",
              "      <th>selfLR</th>\n",
              "      <th>ClinLR</th>\n",
              "      <th>DoleLR</th>\n",
              "      <th>PID</th>\n",
              "      <th>age</th>\n",
              "      <th>education</th>\n",
              "      <th>income</th>\n",
              "      <th>vote</th>\n",
              "      <th>logpopul</th>\n",
              "      <th>party</th>\n",
              "    </tr>\n",
              "  </thead>\n",
              "  <tbody>\n",
              "    <tr>\n",
              "      <th>0</th>\n",
              "      <td>0.0</td>\n",
              "      <td>7.0</td>\n",
              "      <td>7.0</td>\n",
              "      <td>1.0</td>\n",
              "      <td>6.0</td>\n",
              "      <td>6.0</td>\n",
              "      <td>36.0</td>\n",
              "      <td>3.0</td>\n",
              "      <td>1.0</td>\n",
              "      <td>1.0</td>\n",
              "      <td>-2.302585</td>\n",
              "      <td>Republican</td>\n",
              "    </tr>\n",
              "    <tr>\n",
              "      <th>1</th>\n",
              "      <td>190.0</td>\n",
              "      <td>1.0</td>\n",
              "      <td>3.0</td>\n",
              "      <td>3.0</td>\n",
              "      <td>5.0</td>\n",
              "      <td>1.0</td>\n",
              "      <td>20.0</td>\n",
              "      <td>4.0</td>\n",
              "      <td>1.0</td>\n",
              "      <td>0.0</td>\n",
              "      <td>5.247550</td>\n",
              "      <td>Democrat</td>\n",
              "    </tr>\n",
              "    <tr>\n",
              "      <th>2</th>\n",
              "      <td>31.0</td>\n",
              "      <td>7.0</td>\n",
              "      <td>2.0</td>\n",
              "      <td>2.0</td>\n",
              "      <td>6.0</td>\n",
              "      <td>1.0</td>\n",
              "      <td>24.0</td>\n",
              "      <td>6.0</td>\n",
              "      <td>1.0</td>\n",
              "      <td>0.0</td>\n",
              "      <td>3.437208</td>\n",
              "      <td>Democrat</td>\n",
              "    </tr>\n",
              "    <tr>\n",
              "      <th>3</th>\n",
              "      <td>83.0</td>\n",
              "      <td>4.0</td>\n",
              "      <td>3.0</td>\n",
              "      <td>4.0</td>\n",
              "      <td>5.0</td>\n",
              "      <td>1.0</td>\n",
              "      <td>28.0</td>\n",
              "      <td>6.0</td>\n",
              "      <td>1.0</td>\n",
              "      <td>0.0</td>\n",
              "      <td>4.420045</td>\n",
              "      <td>Democrat</td>\n",
              "    </tr>\n",
              "    <tr>\n",
              "      <th>4</th>\n",
              "      <td>640.0</td>\n",
              "      <td>7.0</td>\n",
              "      <td>5.0</td>\n",
              "      <td>6.0</td>\n",
              "      <td>4.0</td>\n",
              "      <td>0.0</td>\n",
              "      <td>68.0</td>\n",
              "      <td>6.0</td>\n",
              "      <td>1.0</td>\n",
              "      <td>0.0</td>\n",
              "      <td>6.461624</td>\n",
              "      <td>Democrat</td>\n",
              "    </tr>\n",
              "  </tbody>\n",
              "</table>\n",
              "</div>"
            ],
            "text/plain": [
              "   popul  TVnews  selfLR  ClinLR  DoleLR  PID   age  education  income  vote  \\\n",
              "0    0.0     7.0     7.0     1.0     6.0  6.0  36.0        3.0     1.0   1.0   \n",
              "1  190.0     1.0     3.0     3.0     5.0  1.0  20.0        4.0     1.0   0.0   \n",
              "2   31.0     7.0     2.0     2.0     6.0  1.0  24.0        6.0     1.0   0.0   \n",
              "3   83.0     4.0     3.0     4.0     5.0  1.0  28.0        6.0     1.0   0.0   \n",
              "4  640.0     7.0     5.0     6.0     4.0  0.0  68.0        6.0     1.0   0.0   \n",
              "\n",
              "   logpopul       party  \n",
              "0 -2.302585  Republican  \n",
              "1  5.247550    Democrat  \n",
              "2  3.437208    Democrat  \n",
              "3  4.420045    Democrat  \n",
              "4  6.461624    Democrat  "
            ]
          },
          "execution_count": 15,
          "metadata": {},
          "output_type": "execute_result"
        }
      ],
      "source": [
        "party = []\n",
        "for i in df[\"PID\"]:\n",
        "    if i == 0 or i == 1:\n",
        "        party.append(\"Democrat\")\n",
        "    elif i == 5 or i == 6:\n",
        "        party.append(\"Republican\")\n",
        "    else:\n",
        "        party.append(\"Independent\")\n",
        "df[\"party\"] = party\n",
        "df.head()"
      ]
    },
    {
      "cell_type": "code",
      "execution_count": 16,
      "metadata": {},
      "outputs": [
        {
          "data": {
            "text/html": [
              "<div>\n",
              "<style scoped>\n",
              "    .dataframe tbody tr th:only-of-type {\n",
              "        vertical-align: middle;\n",
              "    }\n",
              "\n",
              "    .dataframe tbody tr th {\n",
              "        vertical-align: top;\n",
              "    }\n",
              "\n",
              "    .dataframe thead th {\n",
              "        text-align: right;\n",
              "    }\n",
              "</style>\n",
              "<table border=\"1\" class=\"dataframe\">\n",
              "  <thead>\n",
              "    <tr style=\"text-align: right;\">\n",
              "      <th></th>\n",
              "      <th>popul</th>\n",
              "      <th>TVnews</th>\n",
              "      <th>selfLR</th>\n",
              "      <th>ClinLR</th>\n",
              "      <th>DoleLR</th>\n",
              "      <th>PID</th>\n",
              "      <th>age</th>\n",
              "      <th>education</th>\n",
              "      <th>income</th>\n",
              "      <th>vote</th>\n",
              "      <th>logpopul</th>\n",
              "      <th>party</th>\n",
              "      <th>age_group</th>\n",
              "    </tr>\n",
              "  </thead>\n",
              "  <tbody>\n",
              "    <tr>\n",
              "      <th>0</th>\n",
              "      <td>0.0</td>\n",
              "      <td>7.0</td>\n",
              "      <td>7.0</td>\n",
              "      <td>1.0</td>\n",
              "      <td>6.0</td>\n",
              "      <td>6.0</td>\n",
              "      <td>36.0</td>\n",
              "      <td>3.0</td>\n",
              "      <td>1.0</td>\n",
              "      <td>1.0</td>\n",
              "      <td>-2.302585</td>\n",
              "      <td>Republican</td>\n",
              "      <td>35-45</td>\n",
              "    </tr>\n",
              "    <tr>\n",
              "      <th>1</th>\n",
              "      <td>190.0</td>\n",
              "      <td>1.0</td>\n",
              "      <td>3.0</td>\n",
              "      <td>3.0</td>\n",
              "      <td>5.0</td>\n",
              "      <td>1.0</td>\n",
              "      <td>20.0</td>\n",
              "      <td>4.0</td>\n",
              "      <td>1.0</td>\n",
              "      <td>0.0</td>\n",
              "      <td>5.247550</td>\n",
              "      <td>Democrat</td>\n",
              "      <td>18-24</td>\n",
              "    </tr>\n",
              "    <tr>\n",
              "      <th>2</th>\n",
              "      <td>31.0</td>\n",
              "      <td>7.0</td>\n",
              "      <td>2.0</td>\n",
              "      <td>2.0</td>\n",
              "      <td>6.0</td>\n",
              "      <td>1.0</td>\n",
              "      <td>24.0</td>\n",
              "      <td>6.0</td>\n",
              "      <td>1.0</td>\n",
              "      <td>0.0</td>\n",
              "      <td>3.437208</td>\n",
              "      <td>Democrat</td>\n",
              "      <td>18-24</td>\n",
              "    </tr>\n",
              "    <tr>\n",
              "      <th>3</th>\n",
              "      <td>83.0</td>\n",
              "      <td>4.0</td>\n",
              "      <td>3.0</td>\n",
              "      <td>4.0</td>\n",
              "      <td>5.0</td>\n",
              "      <td>1.0</td>\n",
              "      <td>28.0</td>\n",
              "      <td>6.0</td>\n",
              "      <td>1.0</td>\n",
              "      <td>0.0</td>\n",
              "      <td>4.420045</td>\n",
              "      <td>Democrat</td>\n",
              "      <td>25-35</td>\n",
              "    </tr>\n",
              "    <tr>\n",
              "      <th>4</th>\n",
              "      <td>640.0</td>\n",
              "      <td>7.0</td>\n",
              "      <td>5.0</td>\n",
              "      <td>6.0</td>\n",
              "      <td>4.0</td>\n",
              "      <td>0.0</td>\n",
              "      <td>68.0</td>\n",
              "      <td>6.0</td>\n",
              "      <td>1.0</td>\n",
              "      <td>0.0</td>\n",
              "      <td>6.461624</td>\n",
              "      <td>Democrat</td>\n",
              "      <td>65 and over</td>\n",
              "    </tr>\n",
              "  </tbody>\n",
              "</table>\n",
              "</div>"
            ],
            "text/plain": [
              "   popul  TVnews  selfLR  ClinLR  DoleLR  PID   age  education  income  vote  \\\n",
              "0    0.0     7.0     7.0     1.0     6.0  6.0  36.0        3.0     1.0   1.0   \n",
              "1  190.0     1.0     3.0     3.0     5.0  1.0  20.0        4.0     1.0   0.0   \n",
              "2   31.0     7.0     2.0     2.0     6.0  1.0  24.0        6.0     1.0   0.0   \n",
              "3   83.0     4.0     3.0     4.0     5.0  1.0  28.0        6.0     1.0   0.0   \n",
              "4  640.0     7.0     5.0     6.0     4.0  0.0  68.0        6.0     1.0   0.0   \n",
              "\n",
              "   logpopul       party    age_group  \n",
              "0 -2.302585  Republican        35-45  \n",
              "1  5.247550    Democrat        18-24  \n",
              "2  3.437208    Democrat        18-24  \n",
              "3  4.420045    Democrat        25-35  \n",
              "4  6.461624    Democrat  65 and over  "
            ]
          },
          "execution_count": 16,
          "metadata": {},
          "output_type": "execute_result"
        }
      ],
      "source": [
        "age_group = []\n",
        "for age in df[\"age\"]:\n",
        "    if age >= 18 and age < 25:\n",
        "        age_group.append(\"18-24\")\n",
        "    elif age >= 25 and age < 35:\n",
        "        age_group.append(\"25-35\")\n",
        "    elif age >= 35 and age < 45:\n",
        "        age_group.append(\"35-45\")\n",
        "    elif age >= 45 and age < 55:\n",
        "        age_group.append(\"45-55\")\n",
        "    elif age >= 55 and age < 65:\n",
        "        age_group.append(\"55-65\")\n",
        "    else:\n",
        "        age_group.append(\"65 and over\")\n",
        "df[\"age_group\"] = age_group\n",
        "df.head()"
      ]
    },
    {
      "cell_type": "markdown",
      "metadata": {
        "id": "FaisnScALWND"
      },
      "source": [
        "## 3. Filtering Data Exercise\n",
        "\n",
        "Use the filtering method to find all the respondents who have the impression that Bill Clinton is moderate or conservative (`ClinLR` equals 4 or higher). How many respondents are in this subset?\n",
        "\n",
        "Among these respondents, how many have a household income less than $50,000 and attended at least some college?"
      ]
    },
    {
      "cell_type": "code",
      "execution_count": null,
      "metadata": {
        "id": "eX5t91r1BJ3k"
      },
      "outputs": [],
      "source": [
        "# Your code here"
      ]
    },
    {
      "cell_type": "markdown",
      "metadata": {
        "id": "g5GzVjqdLe82"
      },
      "source": [
        "## 4. Calculating From Data Exercise\n",
        "\n",
        "For each of the below match-ups, choose the group that is more likely to vote for Bill Clinton. You can calculate this using the percentage of each group that intends to vote for Clinton (`vote`). Which match-up was the closest? Which had the biggest difference?\n",
        "\n",
        "Another way to think about this: Given that a respondent is a Democrat, there is a ____ percent chance they will vote for Clinton. How does this value change if the respondent is a Republican?\n",
        "\n",
        "*   Democrats or Republicans\n",
        "*   People younger than 44 or People 44 and older\n",
        "*   People who watch TV news at least 6 days a week or People who watch TV news less than 3 days a week\n",
        "*   People who live somewhere with a population greater than the average respondent or People who live in a place with a population equal to or less than the average respondent\n"
      ]
    },
    {
      "cell_type": "code",
      "execution_count": null,
      "metadata": {
        "id": "68hj5Vs6Lhz5"
      },
      "outputs": [],
      "source": [
        "# Your code here"
      ]
    },
    {
      "cell_type": "markdown",
      "metadata": {
        "id": "Q68i6UUQLZrT"
      },
      "source": [
        "## 5. Grouping Data Exercise\n",
        "\n",
        "Use the `groupby()` method to bucket respondents by `age_group`. Which age group is the most conservative? Which watches TV news the least?\n",
        "\n",
        "Next, calculate 5 percentile groups based on income. Group the dataset by these percentiles. Which income bracket is the most liberal? Which is the most conservative? The oldest? Highest educated?"
      ]
    },
    {
      "cell_type": "code",
      "execution_count": null,
      "metadata": {
        "id": "eNrBrx6-LcBn"
      },
      "outputs": [],
      "source": [
        "# Your code here"
      ]
    },
    {
      "cell_type": "markdown",
      "metadata": {
        "id": "_ySpfyk-LSUS"
      },
      "source": [
        "## 6. Voting Across the Aisle\n",
        "\n",
        "We are interested in learning more about respondents who's political views differ strongly from the candidate they expect to vote for. Using `selfLR`, `vote`, `ClinLR`, and `DoleLR`, work through the following questions. Your interpretation may differ from the answer key.\n",
        "\n",
        "*   What is the largest recorded difference between a respondent's political leaning and their impression of their intended candidate's political leaning?\n",
        "*   How many respondents exhibit a difference of that magnitude?\n",
        "*   Make a separate DataFrame called `sway` that only includes voters who exhibit a difference greater than |3|.\n",
        "*   Among those in `sway`, are respondents more likely to be voting for a candidate more conservative or more liberal than their own political leaning?\n",
        "*   In `sway`, which candidate is the more popular choice?\n",
        "\n"
      ]
    },
    {
      "cell_type": "code",
      "execution_count": null,
      "metadata": {
        "id": "pIFQCKBcLX9z"
      },
      "outputs": [],
      "source": [
        "# Your code here"
      ]
    },
    {
      "cell_type": "markdown",
      "metadata": {
        "id": "HRJKA3UDLr-z"
      },
      "source": [
        "# BSD 3-Clause License\n",
        "\n",
        "*Copyright (c) 2022, UC Berkeley School of Information*\n",
        "\n",
        "*All rights reserved.*\n",
        "\n",
        "*Redistribution and use in source and binary forms, with or without modification, are permitted provided that the following conditions are met:*\n",
        "\n",
        "*1. Redistributions of source code must retain the above copyright notice, this list of conditions and the following disclaimer.*\n",
        "\n",
        "*2. Redistributions in binary form must reproduce the above copyright notice, this list of conditions and the following disclaimer in the documentation and/or other materials provided with the distribution.*\n",
        "\n",
        "*3. Neither the name of the copyright holder nor the names of its contributors may be used to endorse or promote products derived from this software without specific prior written permission.*\n",
        "\n",
        "*THIS SOFTWARE IS PROVIDED BY THE COPYRIGHT HOLDERS AND CONTRIBUTORS \"AS IS\" AND ANY EXPRESS OR IMPLIED WARRANTIES, INCLUDING, BUT NOT LIMITED TO, THE IMPLIED WARRANTIES OF MERCHANTABILITY AND FITNESS FOR A PARTICULAR PURPOSE ARE DISCLAIMED. IN NO EVENT SHALL THE COPYRIGHT HOLDER OR CONTRIBUTORS BE LIABLE FOR ANY DIRECT, INDIRECT, INCIDENTAL, SPECIAL, EXEMPLARY, OR CONSEQUENTIAL DAMAGES (INCLUDING, BUT NOT LIMITED TO, PROCUREMENT OF SUBSTITUTE GOODS OR SERVICES; LOSS OF USE, DATA, OR PROFITS; OR BUSINESS INTERRUPTION) HOWEVER CAUSED AND ON ANY THEORY OF LIABILITY, WHETHER IN CONTRACT, STRICT LIABILITY, OR TORT (INCLUDING NEGLIGENCE OR OTHERWISE) ARISING IN ANY WAY OUT OF THE USE OF THIS SOFTWARE, EVEN IF ADVISED OF THE POSSIBILITY OF SUCH DAMAGE.*"
      ]
    }
  ],
  "metadata": {
    "colab": {
      "include_colab_link": true,
      "provenance": []
    },
    "kernelspec": {
      "display_name": "Python 3",
      "name": "python3"
    },
    "language_info": {
      "codemirror_mode": {
        "name": "ipython",
        "version": 3
      },
      "file_extension": ".py",
      "mimetype": "text/x-python",
      "name": "python",
      "nbconvert_exporter": "python",
      "pygments_lexer": "ipython3",
      "version": "3.10.12"
    }
  },
  "nbformat": 4,
  "nbformat_minor": 0
}
